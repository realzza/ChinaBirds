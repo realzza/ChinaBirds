{
 "cells": [
  {
   "cell_type": "code",
   "execution_count": 3,
   "metadata": {},
   "outputs": [],
   "source": [
    "import os\n",
    "import sox\n",
    "import json\n",
    "from tqdm import tqdm"
   ]
  },
  {
   "cell_type": "code",
   "execution_count": 92,
   "metadata": {},
   "outputs": [],
   "source": [
    "with open('class2duration_503.json','r') as f:\n",
    "    class2weight = json.load(f)\n",
    "    \n",
    "label2int = {k:i for i,k in enumerate(class2weight)}\n",
    "int2label = {i:k for k,i in label2int.items()}\n",
    "with open('index/label2int_503.json','w') as f:\n",
    "    json.dump(label2int, f)\n",
    "with open('index/int2label_503.json','w') as f:\n",
    "    json.dump(int2label, f)"
   ]
  },
  {
   "cell_type": "code",
   "execution_count": 93,
   "metadata": {},
   "outputs": [
    {
     "data": {
      "text/plain": [
       "503"
      ]
     },
     "execution_count": 93,
     "metadata": {},
     "output_type": "execute_result"
    }
   ],
   "source": [
    "len(class2weight)"
   ]
  },
  {
   "cell_type": "markdown",
   "metadata": {},
   "source": [
    "### init `utt2wav`"
   ]
  },
  {
   "cell_type": "code",
   "execution_count": 10,
   "metadata": {},
   "outputs": [
    {
     "name": "stdout",
     "output_type": "stream",
     "text": [
      "1\n"
     ]
    }
   ],
   "source": [
    "for i in range(1,2):\n",
    "    print(i)"
   ]
  },
  {
   "cell_type": "code",
   "execution_count": 39,
   "metadata": {},
   "outputs": [],
   "source": [
    "# all_birds = list(class2weight.keys())\n",
    "# all_records = []\n",
    "database  = '/DATA1/ziang/data/1480birds/wavs/'\n",
    "# for bird in tqdm(all_birds):\n",
    "#     bird_all_recordings = [database+bird+'/'+rec for rec in os.listdir(database+bird) if rec.endswith('.wav')]\n",
    "#     for rec in bird_all_recordings:\n",
    "#         rec_len = sox.file_info.duration(rec)\n",
    "#         if rec_len > 5:\n",
    "#             max_end = int(rec_len)\n",
    "#             all_records += [rec.split('/')[-1] + ' ' + rec + ' %d'%i for i in range(max_end - 4)]"
   ]
  },
  {
   "cell_type": "markdown",
   "metadata": {},
   "source": [
    "### combine utt2wav and utt2label"
   ]
  },
  {
   "cell_type": "code",
   "execution_count": 116,
   "metadata": {},
   "outputs": [],
   "source": [
    "utt2wav_total = []\n",
    "utt2label_total = []\n",
    "all_wavs = [\"out_/test/\"+file for file in os.listdir('out_/test/') if file.startswith('utt2wav')]\n",
    "all_labels = [\"out_/test/\"+file for file in os.listdir('out_/test') if file.startswith('utt2lab')]"
   ]
  },
  {
   "cell_type": "code",
   "execution_count": 117,
   "metadata": {},
   "outputs": [
    {
     "name": "stderr",
     "output_type": "stream",
     "text": [
      "100%|██████████| 20/20 [00:00<00:00, 428.81it/s]\n"
     ]
    }
   ],
   "source": [
    "for wav_file in tqdm(all_wavs):\n",
    "    with open(wav_file,'r') as f:\n",
    "        utt2wav_total += [line for line in f.read().split('\\n') if line]"
   ]
  },
  {
   "cell_type": "code",
   "execution_count": 118,
   "metadata": {},
   "outputs": [],
   "source": [
    "for lab_file in all_labels:\n",
    "    with open(lab_file,'r') as f:\n",
    "        utt2label_total += [line for line in f.read().split('\\n') if line]"
   ]
  },
  {
   "cell_type": "code",
   "execution_count": 119,
   "metadata": {},
   "outputs": [
    {
     "data": {
      "text/plain": [
       "148280"
      ]
     },
     "execution_count": 119,
     "metadata": {},
     "output_type": "execute_result"
    }
   ],
   "source": [
    "len(utt2wav_total)"
   ]
  },
  {
   "cell_type": "code",
   "execution_count": 120,
   "metadata": {},
   "outputs": [
    {
     "data": {
      "text/plain": [
       "148280"
      ]
     },
     "execution_count": 120,
     "metadata": {},
     "output_type": "execute_result"
    }
   ],
   "source": [
    "len(utt2label_total)"
   ]
  },
  {
   "cell_type": "code",
   "execution_count": 121,
   "metadata": {},
   "outputs": [],
   "source": [
    "with open('index/utt2wav_devel_500','w') as f:\n",
    "    f.write('\\n'.join(utt2wav_total))"
   ]
  },
  {
   "cell_type": "code",
   "execution_count": 122,
   "metadata": {},
   "outputs": [],
   "source": [
    "with open('index/utt2label_devel_500','w') as f:\n",
    "    f.write('\\n'.join(utt2label_total))"
   ]
  },
  {
   "cell_type": "code",
   "execution_count": 123,
   "metadata": {},
   "outputs": [],
   "source": [
    "with open('index/utt2label_devel_500','r') as f:\n",
    "    utt2label_all = f.read().split('\\n')"
   ]
  },
  {
   "cell_type": "code",
   "execution_count": 124,
   "metadata": {},
   "outputs": [
    {
     "data": {
      "text/plain": [
       "148280"
      ]
     },
     "execution_count": 124,
     "metadata": {},
     "output_type": "execute_result"
    }
   ],
   "source": [
    "len(utt2label_all)"
   ]
  },
  {
   "cell_type": "markdown",
   "metadata": {},
   "source": [
    "### class2duration"
   ]
  },
  {
   "cell_type": "code",
   "execution_count": 35,
   "metadata": {},
   "outputs": [],
   "source": [
    "with open('../birdData/bird2duration.json','r') as f:\n",
    "    class2duration = json.load(f)\n",
    "class2duration = {k:v for k,v in class2duration.items() if v>2450}"
   ]
  },
  {
   "cell_type": "code",
   "execution_count": 36,
   "metadata": {},
   "outputs": [
    {
     "data": {
      "text/plain": [
       "503"
      ]
     },
     "execution_count": 36,
     "metadata": {},
     "output_type": "execute_result"
    }
   ],
   "source": [
    "len(class2duration)"
   ]
  },
  {
   "cell_type": "code",
   "execution_count": 37,
   "metadata": {},
   "outputs": [],
   "source": [
    "with open('class2duration_503.json','w') as f:\n",
    "    json.dump(class2duration,f)"
   ]
  },
  {
   "cell_type": "markdown",
   "metadata": {},
   "source": [
    "### class2count"
   ]
  },
  {
   "cell_type": "code",
   "execution_count": 40,
   "metadata": {},
   "outputs": [
    {
     "data": {
      "text/plain": [
       "'/DATA1/ziang/data/1480birds/wavs/'"
      ]
     },
     "execution_count": 40,
     "metadata": {},
     "output_type": "execute_result"
    }
   ],
   "source": [
    "database"
   ]
  },
  {
   "cell_type": "code",
   "execution_count": 42,
   "metadata": {},
   "outputs": [],
   "source": [
    "class2count = {bird:len([rec for rec in os.listdir(database+bird) if rec.endswith('.wav')]) for bird in class2duration}"
   ]
  },
  {
   "cell_type": "code",
   "execution_count": 45,
   "metadata": {},
   "outputs": [],
   "source": [
    "with open('class2count_503.json','w') as f:\n",
    "    json.dump(class2count, f)"
   ]
  },
  {
   "cell_type": "markdown",
   "metadata": {},
   "source": [
    "### play with h5 features"
   ]
  },
  {
   "cell_type": "code",
   "execution_count": 79,
   "metadata": {},
   "outputs": [],
   "source": [
    "feat_base = '/DATA1/ziang/data/1480birds/feats/'\n",
    "feat_example = '/DATA1/ziang/data/1480birds/feats/Black-backedForktail/116354.h5'\n",
    "wav_example = '/DATA1/ziang/data/1480birds/wavs/Black-backedForktail/116354.wav'"
   ]
  },
  {
   "cell_type": "code",
   "execution_count": 74,
   "metadata": {},
   "outputs": [],
   "source": [
    "import h5py\n",
    "import numpy as np\n",
    "hf = h5py.File(feat_example,'r')\n",
    "logfbankFeat = np.array(hf.get('logfbank'))\n",
    "hf.close()"
   ]
  },
  {
   "cell_type": "code",
   "execution_count": 77,
   "metadata": {},
   "outputs": [
    {
     "data": {
      "text/plain": [
       "(3510, 80)"
      ]
     },
     "execution_count": 77,
     "metadata": {},
     "output_type": "execute_result"
    }
   ],
   "source": [
    "logfbankFeat.shape"
   ]
  },
  {
   "cell_type": "code",
   "execution_count": 80,
   "metadata": {},
   "outputs": [
    {
     "data": {
      "text/plain": [
       "35.108562"
      ]
     },
     "execution_count": 80,
     "metadata": {},
     "output_type": "execute_result"
    }
   ],
   "source": [
    "sox.file_info.duration(wav_example)"
   ]
  },
  {
   "cell_type": "markdown",
   "metadata": {},
   "source": [
    "### generate index files for h5 files"
   ]
  },
  {
   "cell_type": "code",
   "execution_count": 113,
   "metadata": {},
   "outputs": [],
   "source": [
    "with open('index/utt2wav_train_500','r') as f:\n",
    "    utt2wav_train = f.read().split('\\n')"
   ]
  },
  {
   "cell_type": "code",
   "execution_count": 114,
   "metadata": {},
   "outputs": [],
   "source": [
    "utt2wav_train_h5 = [line.replace('/wavs/','/feats/').replace('.wav','.h5') for line in utt2wav_train]"
   ]
  },
  {
   "cell_type": "code",
   "execution_count": 115,
   "metadata": {},
   "outputs": [],
   "source": [
    "with open('index/utt2wav_train_503_h5','w') as f:\n",
    "    f.write('\\n'.join(utt2wav_train_h5))"
   ]
  },
  {
   "cell_type": "code",
   "execution_count": 125,
   "metadata": {},
   "outputs": [],
   "source": [
    "with open('index/utt2wav_devel_500','r') as f:\n",
    "    utt2wav_eval = f.read().split('\\n')\n",
    "utt2wav_eval_h5 = [line.replace('/wavs/','/feats/').replace('.wav','.h5') for line in utt2wav_eval]\n",
    "with open('index/utt2wav_devel_503_h5','w') as f:\n",
    "    f.write('\\n'.join(utt2wav_eval_h5))"
   ]
  },
  {
   "cell_type": "code",
   "execution_count": null,
   "metadata": {},
   "outputs": [],
   "source": [
    "with open('index/utt2label_eval','r') as f:\n",
    "    utt2wav_eval = f.read().split('\\n')\n",
    "utt2wav_eval_h5 = [line.replace('/wavs/','/feats/').replace('.wav','.h5') for line in utt2wav_eval]\n",
    "with open('index/utt2wav_eval_h5','w') as f:\n",
    "    f.write('\\n'.join(utt2wav_eval_h5))"
   ]
  },
  {
   "cell_type": "code",
   "execution_count": 99,
   "metadata": {},
   "outputs": [
    {
     "ename": "FileNotFoundError",
     "evalue": "[Errno 2] No such file or directory: 'index/utt2wav_devel_500_h5_toy'",
     "output_type": "error",
     "traceback": [
      "\u001b[0;31m---------------------------------------------------------------------------\u001b[0m",
      "\u001b[0;31mFileNotFoundError\u001b[0m                         Traceback (most recent call last)",
      "\u001b[0;32m<ipython-input-99-e2e9ba4603e4>\u001b[0m in \u001b[0;36m<module>\u001b[0;34m\u001b[0m\n\u001b[0;32m----> 1\u001b[0;31m \u001b[0;32mwith\u001b[0m \u001b[0mopen\u001b[0m\u001b[0;34m(\u001b[0m\u001b[0;34m'index/utt2wav_devel_500_h5_toy'\u001b[0m\u001b[0;34m,\u001b[0m\u001b[0;34m'r'\u001b[0m\u001b[0;34m)\u001b[0m \u001b[0;32mas\u001b[0m \u001b[0mf\u001b[0m\u001b[0;34m:\u001b[0m\u001b[0;34m\u001b[0m\u001b[0;34m\u001b[0m\u001b[0m\n\u001b[0m\u001b[1;32m      2\u001b[0m     \u001b[0mtmp_wav\u001b[0m \u001b[0;34m=\u001b[0m \u001b[0mf\u001b[0m\u001b[0;34m.\u001b[0m\u001b[0mread\u001b[0m\u001b[0;34m(\u001b[0m\u001b[0;34m)\u001b[0m\u001b[0;34m.\u001b[0m\u001b[0msplit\u001b[0m\u001b[0;34m(\u001b[0m\u001b[0;34m'\\n'\u001b[0m\u001b[0;34m)\u001b[0m\u001b[0;34m\u001b[0m\u001b[0;34m\u001b[0m\u001b[0m\n",
      "\u001b[0;31mFileNotFoundError\u001b[0m: [Errno 2] No such file or directory: 'index/utt2wav_devel_500_h5_toy'"
     ]
    }
   ],
   "source": [
    "with open('index/utt2wav_devel_500_h5_toy','r') as f:\n",
    "    tmp_wav = f.read().split('\\n')"
   ]
  },
  {
   "cell_type": "code",
   "execution_count": 98,
   "metadata": {},
   "outputs": [],
   "source": [
    "tmp_wav = [line.split()[0]+' '+line.split('/')[-2] for line in tmp_wav]\n",
    "with open('index/utt2label_devel_500_toy','w') as f:\n",
    "    f.write('\\n'.join(tmp_wav))"
   ]
  },
  {
   "cell_type": "code",
   "execution_count": 2,
   "metadata": {},
   "outputs": [
    {
     "name": "stdout",
     "output_type": "stream",
     "text": [
      "9195655\n"
     ]
    }
   ],
   "source": [
    "with open('index/utt2wav_train','r') as f:\n",
    "    print(len(f.read().split('\\n')))"
   ]
  },
  {
   "cell_type": "markdown",
   "metadata": {},
   "source": [
    "### remake class2weights"
   ]
  },
  {
   "cell_type": "code",
   "execution_count": 4,
   "metadata": {},
   "outputs": [],
   "source": [
    "with open('class2count.json','r') as f:\n",
    "    class2count = json.load(f)"
   ]
  },
  {
   "cell_type": "code",
   "execution_count": 11,
   "metadata": {},
   "outputs": [
    {
     "data": {
      "text/plain": [
       "1171"
      ]
     },
     "execution_count": 11,
     "metadata": {},
     "output_type": "execute_result"
    }
   ],
   "source": [
    "len({k:v for k,v in class2count.items() if v>1400})"
   ]
  },
  {
   "cell_type": "code",
   "execution_count": null,
   "metadata": {},
   "outputs": [],
   "source": [
    "class2weights = "
   ]
  },
  {
   "cell_type": "markdown",
   "metadata": {},
   "source": [
    "### random"
   ]
  },
  {
   "cell_type": "code",
   "execution_count": 58,
   "metadata": {},
   "outputs": [
    {
     "data": {
      "text/plain": [
       "[2, 8, 6, 4, 4, 3, 8, 3]"
      ]
     },
     "execution_count": 58,
     "metadata": {},
     "output_type": "execute_result"
    }
   ],
   "source": [
    "import random\n",
    "l1 = [1,2,3,4,5,6,7,8]\n",
    "random.choices(l1,k=8)"
   ]
  },
  {
   "cell_type": "code",
   "execution_count": 60,
   "metadata": {},
   "outputs": [
    {
     "data": {
      "text/plain": [
       "[2, 1, 6, 3, 8, 7, 5, 4]"
      ]
     },
     "execution_count": 60,
     "metadata": {},
     "output_type": "execute_result"
    }
   ],
   "source": [
    "random.seed(42)\n",
    "random.sample(l1, 8)"
   ]
  },
  {
   "cell_type": "code",
   "execution_count": 64,
   "metadata": {},
   "outputs": [
    {
     "data": {
      "text/plain": [
       "[2, 1, 6, 3, 8, 7, 5, 4]"
      ]
     },
     "execution_count": 64,
     "metadata": {},
     "output_type": "execute_result"
    }
   ],
   "source": [
    "random.seed(42)\n",
    "random.sample(l1, 8)"
   ]
  },
  {
   "cell_type": "markdown",
   "metadata": {},
   "source": [
    "### check abnormal feature in `h5`"
   ]
  },
  {
   "cell_type": "code",
   "execution_count": 1,
   "metadata": {},
   "outputs": [],
   "source": [
    "with open(\"index/utt2wav_train_503_h5\",'r') as f:\n",
    "    all_train_feats = f.read().split()"
   ]
  },
  {
   "cell_type": "code",
   "execution_count": 2,
   "metadata": {},
   "outputs": [
    {
     "data": {
      "text/plain": [
       "'97038_0'"
      ]
     },
     "execution_count": 2,
     "metadata": {},
     "output_type": "execute_result"
    }
   ],
   "source": [
    "all_train_feats[0]"
   ]
  },
  {
   "cell_type": "code",
   "execution_count": 3,
   "metadata": {},
   "outputs": [],
   "source": [
    "import numpy as np"
   ]
  },
  {
   "cell_type": "code",
   "execution_count": 21,
   "metadata": {},
   "outputs": [],
   "source": [
    "ra = np.random.random((10,3))"
   ]
  },
  {
   "cell_type": "code",
   "execution_count": 22,
   "metadata": {},
   "outputs": [
    {
     "data": {
      "text/plain": [
       "array([[0.49620939, 0.82095235, 0.61244046],\n",
       "       [0.19497862, 0.24623941, 0.48297908],\n",
       "       [0.99611621, 0.85358927, 0.56465144],\n",
       "       [0.53359732, 0.94715238, 0.35714415],\n",
       "       [0.1632712 , 0.00613247, 0.02434299],\n",
       "       [0.65575787, 0.72649827, 0.17116279],\n",
       "       [0.42943611, 0.34734627, 0.5318194 ],\n",
       "       [0.28905445, 0.71488041, 0.24130438],\n",
       "       [0.49279889, 0.81797875, 0.21305097],\n",
       "       [0.99434755, 0.66320967, 0.38535919]])"
      ]
     },
     "execution_count": 22,
     "metadata": {},
     "output_type": "execute_result"
    }
   ],
   "source": [
    "ra"
   ]
  },
  {
   "cell_type": "code",
   "execution_count": 23,
   "metadata": {},
   "outputs": [
    {
     "data": {
      "text/plain": [
       "array([[0.49620939, 0.82095235, 0.61244046],\n",
       "       [0.19497862, 0.24623941, 0.48297908],\n",
       "       [0.99611621, 0.85358927, 0.56465144],\n",
       "       [0.53359732, 0.94715238, 0.35714415],\n",
       "       [0.1632712 , 0.00613247, 0.02434299],\n",
       "       [0.65575787, 0.72649827, 0.17116279],\n",
       "       [0.42943611, 0.34734627, 0.5318194 ],\n",
       "       [0.28905445, 0.71488041, 0.24130438],\n",
       "       [0.49279889, 0.81797875, 0.21305097],\n",
       "       [0.99434755, 0.66320967, 0.38535919],\n",
       "       [0.49620939, 0.82095235, 0.61244046]])"
      ]
     },
     "execution_count": 23,
     "metadata": {},
     "output_type": "execute_result"
    }
   ],
   "source": [
    "np.resize(ra, (11,3))"
   ]
  },
  {
   "cell_type": "code",
   "execution_count": null,
   "metadata": {},
   "outputs": [],
   "source": []
  }
 ],
 "metadata": {
  "kernelspec": {
   "display_name": "Python 3",
   "language": "python",
   "name": "python3"
  },
  "language_info": {
   "codemirror_mode": {
    "name": "ipython",
    "version": 3
   },
   "file_extension": ".py",
   "mimetype": "text/x-python",
   "name": "python",
   "nbconvert_exporter": "python",
   "pygments_lexer": "ipython3",
   "version": "3.7.6"
  }
 },
 "nbformat": 4,
 "nbformat_minor": 4
}
