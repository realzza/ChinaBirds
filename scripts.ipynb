{
 "cells": [
  {
   "cell_type": "code",
   "execution_count": 325,
   "metadata": {},
   "outputs": [
    {
     "ename": "ModuleNotFoundError",
     "evalue": "No module named 'torchviz'",
     "output_type": "error",
     "traceback": [
      "\u001b[0;31m---------------------------------------------------------------------------\u001b[0m",
      "\u001b[0;31mModuleNotFoundError\u001b[0m                       Traceback (most recent call last)",
      "\u001b[0;32m<ipython-input-325-bedf371e949f>\u001b[0m in \u001b[0;36m<module>\u001b[0;34m\u001b[0m\n\u001b[0;32m----> 1\u001b[0;31m \u001b[0;32mimport\u001b[0m \u001b[0mtorchviz\u001b[0m\u001b[0;34m\u001b[0m\u001b[0;34m\u001b[0m\u001b[0m\n\u001b[0m",
      "\u001b[0;31mModuleNotFoundError\u001b[0m: No module named 'torchviz'"
     ]
    }
   ],
   "source": [
    "import torchviz"
   ]
  },
  {
   "cell_type": "code",
   "execution_count": 232,
   "metadata": {},
   "outputs": [],
   "source": [
    "pt = 0.5"
   ]
  },
  {
   "cell_type": "code",
   "execution_count": 234,
   "metadata": {},
   "outputs": [
    {
     "name": "stdout",
     "output_type": "stream",
     "text": [
      "1\n",
      "1\n",
      "1\n"
     ]
    }
   ],
   "source": [
    "if random.random() < pt:\n",
    "    print(1)\n",
    "if random.random() < pt:\n",
    "    print(1)\n",
    "if random.random() < pt:\n",
    "    print(1)"
   ]
  },
  {
   "cell_type": "code",
   "execution_count": 210,
   "metadata": {},
   "outputs": [
    {
     "data": {
      "text/plain": [
       "38"
      ]
     },
     "execution_count": 210,
     "metadata": {},
     "output_type": "execute_result"
    }
   ],
   "source": [
    "3+4+2+1+3+4+5+1+5+1+4+1+1+3"
   ]
  },
  {
   "cell_type": "code",
   "execution_count": 3,
   "metadata": {},
   "outputs": [],
   "source": [
    "import os\n",
    "import sox\n",
    "import json\n",
    "from tqdm import tqdm"
   ]
  },
  {
   "cell_type": "code",
   "execution_count": 92,
   "metadata": {},
   "outputs": [],
   "source": [
    "with open('class2duration_503.json','r') as f:\n",
    "    class2weight = json.load(f)\n",
    "    \n",
    "label2int = {k:i for i,k in enumerate(class2weight)}\n",
    "int2label = {i:k for k,i in label2int.items()}\n",
    "with open('index/label2int_503.json','w') as f:\n",
    "    json.dump(label2int, f)\n",
    "with open('index/int2label_503.json','w') as f:\n",
    "    json.dump(int2label, f)"
   ]
  },
  {
   "cell_type": "code",
   "execution_count": 93,
   "metadata": {},
   "outputs": [
    {
     "data": {
      "text/plain": [
       "503"
      ]
     },
     "execution_count": 93,
     "metadata": {},
     "output_type": "execute_result"
    }
   ],
   "source": [
    "len(class2weight)"
   ]
  },
  {
   "cell_type": "markdown",
   "metadata": {},
   "source": [
    "### init `utt2wav`"
   ]
  },
  {
   "cell_type": "code",
   "execution_count": 10,
   "metadata": {},
   "outputs": [
    {
     "name": "stdout",
     "output_type": "stream",
     "text": [
      "1\n"
     ]
    }
   ],
   "source": [
    "for i in range(1,2):\n",
    "    print(i)"
   ]
  },
  {
   "cell_type": "code",
   "execution_count": 39,
   "metadata": {},
   "outputs": [],
   "source": [
    "# all_birds = list(class2weight.keys())\n",
    "# all_records = []\n",
    "database  = '/DATA1/ziang/data/1480birds/wavs/'\n",
    "# for bird in tqdm(all_birds):\n",
    "#     bird_all_recordings = [database+bird+'/'+rec for rec in os.listdir(database+bird) if rec.endswith('.wav')]\n",
    "#     for rec in bird_all_recordings:\n",
    "#         rec_len = sox.file_info.duration(rec)\n",
    "#         if rec_len > 5:\n",
    "#             max_end = int(rec_len)\n",
    "#             all_records += [rec.split('/')[-1] + ' ' + rec + ' %d'%i for i in range(max_end - 4)]"
   ]
  },
  {
   "cell_type": "markdown",
   "metadata": {},
   "source": [
    "### combine utt2wav and utt2label"
   ]
  },
  {
   "cell_type": "code",
   "execution_count": 116,
   "metadata": {},
   "outputs": [],
   "source": [
    "utt2wav_total = []\n",
    "utt2label_total = []\n",
    "all_wavs = [\"out_/test/\"+file for file in os.listdir('out_/test/') if file.startswith('utt2wav')]\n",
    "all_labels = [\"out_/test/\"+file for file in os.listdir('out_/test') if file.startswith('utt2lab')]"
   ]
  },
  {
   "cell_type": "code",
   "execution_count": 117,
   "metadata": {},
   "outputs": [
    {
     "name": "stderr",
     "output_type": "stream",
     "text": [
      "100%|██████████| 20/20 [00:00<00:00, 428.81it/s]\n"
     ]
    }
   ],
   "source": [
    "for wav_file in tqdm(all_wavs):\n",
    "    with open(wav_file,'r') as f:\n",
    "        utt2wav_total += [line for line in f.read().split('\\n') if line]"
   ]
  },
  {
   "cell_type": "code",
   "execution_count": 118,
   "metadata": {},
   "outputs": [],
   "source": [
    "for lab_file in all_labels:\n",
    "    with open(lab_file,'r') as f:\n",
    "        utt2label_total += [line for line in f.read().split('\\n') if line]"
   ]
  },
  {
   "cell_type": "code",
   "execution_count": 119,
   "metadata": {},
   "outputs": [
    {
     "data": {
      "text/plain": [
       "148280"
      ]
     },
     "execution_count": 119,
     "metadata": {},
     "output_type": "execute_result"
    }
   ],
   "source": [
    "len(utt2wav_total)"
   ]
  },
  {
   "cell_type": "code",
   "execution_count": 120,
   "metadata": {},
   "outputs": [
    {
     "data": {
      "text/plain": [
       "148280"
      ]
     },
     "execution_count": 120,
     "metadata": {},
     "output_type": "execute_result"
    }
   ],
   "source": [
    "len(utt2label_total)"
   ]
  },
  {
   "cell_type": "code",
   "execution_count": 121,
   "metadata": {},
   "outputs": [],
   "source": [
    "with open('index/utt2wav_devel_500','w') as f:\n",
    "    f.write('\\n'.join(utt2wav_total))"
   ]
  },
  {
   "cell_type": "code",
   "execution_count": 122,
   "metadata": {},
   "outputs": [],
   "source": [
    "with open('index/utt2label_devel_500','w') as f:\n",
    "    f.write('\\n'.join(utt2label_total))"
   ]
  },
  {
   "cell_type": "code",
   "execution_count": 123,
   "metadata": {},
   "outputs": [],
   "source": [
    "with open('index/utt2label_devel_500','r') as f:\n",
    "    utt2label_all = f.read().split('\\n')"
   ]
  },
  {
   "cell_type": "code",
   "execution_count": 124,
   "metadata": {},
   "outputs": [
    {
     "data": {
      "text/plain": [
       "148280"
      ]
     },
     "execution_count": 124,
     "metadata": {},
     "output_type": "execute_result"
    }
   ],
   "source": [
    "len(utt2label_all)"
   ]
  },
  {
   "cell_type": "markdown",
   "metadata": {},
   "source": [
    "### class2duration"
   ]
  },
  {
   "cell_type": "code",
   "execution_count": 35,
   "metadata": {},
   "outputs": [],
   "source": [
    "with open('../birdData/bird2duration.json','r') as f:\n",
    "    class2duration = json.load(f)\n",
    "class2duration = {k:v for k,v in class2duration.items() if v>2450}"
   ]
  },
  {
   "cell_type": "code",
   "execution_count": 36,
   "metadata": {},
   "outputs": [
    {
     "data": {
      "text/plain": [
       "503"
      ]
     },
     "execution_count": 36,
     "metadata": {},
     "output_type": "execute_result"
    }
   ],
   "source": [
    "len(class2duration)"
   ]
  },
  {
   "cell_type": "code",
   "execution_count": 37,
   "metadata": {},
   "outputs": [],
   "source": [
    "with open('class2duration_503.json','w') as f:\n",
    "    json.dump(class2duration,f)"
   ]
  },
  {
   "cell_type": "markdown",
   "metadata": {},
   "source": [
    "### class2count"
   ]
  },
  {
   "cell_type": "code",
   "execution_count": 40,
   "metadata": {},
   "outputs": [
    {
     "data": {
      "text/plain": [
       "'/DATA1/ziang/data/1480birds/wavs/'"
      ]
     },
     "execution_count": 40,
     "metadata": {},
     "output_type": "execute_result"
    }
   ],
   "source": [
    "database"
   ]
  },
  {
   "cell_type": "code",
   "execution_count": 42,
   "metadata": {},
   "outputs": [],
   "source": [
    "class2count = {bird:len([rec for rec in os.listdir(database+bird) if rec.endswith('.wav')]) for bird in class2duration}"
   ]
  },
  {
   "cell_type": "code",
   "execution_count": 45,
   "metadata": {},
   "outputs": [],
   "source": [
    "with open('class2count_503.json','w') as f:\n",
    "    json.dump(class2count, f)"
   ]
  },
  {
   "cell_type": "markdown",
   "metadata": {},
   "source": [
    "### play with h5 features"
   ]
  },
  {
   "cell_type": "code",
   "execution_count": 79,
   "metadata": {},
   "outputs": [],
   "source": [
    "feat_base = '/DATA1/ziang/data/1480birds/feats/'\n",
    "feat_example = '/DATA1/ziang/data/1480birds/feats/Black-backedForktail/116354.h5'\n",
    "wav_example = '/DATA1/ziang/data/1480birds/wavs/Black-backedForktail/116354.wav'"
   ]
  },
  {
   "cell_type": "code",
   "execution_count": 74,
   "metadata": {},
   "outputs": [],
   "source": [
    "import h5py\n",
    "import numpy as np\n",
    "hf = h5py.File(feat_example,'r')\n",
    "logfbankFeat = np.array(hf.get('logfbank'))\n",
    "hf.close()"
   ]
  },
  {
   "cell_type": "code",
   "execution_count": 77,
   "metadata": {},
   "outputs": [
    {
     "data": {
      "text/plain": [
       "(3510, 80)"
      ]
     },
     "execution_count": 77,
     "metadata": {},
     "output_type": "execute_result"
    }
   ],
   "source": [
    "logfbankFeat.shape"
   ]
  },
  {
   "cell_type": "code",
   "execution_count": 80,
   "metadata": {},
   "outputs": [
    {
     "data": {
      "text/plain": [
       "35.108562"
      ]
     },
     "execution_count": 80,
     "metadata": {},
     "output_type": "execute_result"
    }
   ],
   "source": [
    "sox.file_info.duration(wav_example)"
   ]
  },
  {
   "cell_type": "markdown",
   "metadata": {},
   "source": [
    "### generate index files for h5 files"
   ]
  },
  {
   "cell_type": "code",
   "execution_count": 113,
   "metadata": {},
   "outputs": [],
   "source": [
    "with open('index/utt2wav_train_500','r') as f:\n",
    "    utt2wav_train = f.read().split('\\n')"
   ]
  },
  {
   "cell_type": "code",
   "execution_count": 114,
   "metadata": {},
   "outputs": [],
   "source": [
    "utt2wav_train_h5 = [line.replace('/wavs/','/feats/').replace('.wav','.h5') for line in utt2wav_train]"
   ]
  },
  {
   "cell_type": "code",
   "execution_count": 115,
   "metadata": {},
   "outputs": [],
   "source": [
    "with open('index/utt2wav_train_503_h5','w') as f:\n",
    "    f.write('\\n'.join(utt2wav_train_h5))"
   ]
  },
  {
   "cell_type": "code",
   "execution_count": 125,
   "metadata": {},
   "outputs": [],
   "source": [
    "with open('index/utt2wav_devel_500','r') as f:\n",
    "    utt2wav_eval = f.read().split('\\n')\n",
    "utt2wav_eval_h5 = [line.replace('/wavs/','/feats/').replace('.wav','.h5') for line in utt2wav_eval]\n",
    "with open('index/utt2wav_devel_503_h5','w') as f:\n",
    "    f.write('\\n'.join(utt2wav_eval_h5))"
   ]
  },
  {
   "cell_type": "code",
   "execution_count": null,
   "metadata": {},
   "outputs": [],
   "source": [
    "with open('index/utt2label_eval','r') as f:\n",
    "    utt2wav_eval = f.read().split('\\n')\n",
    "utt2wav_eval_h5 = [line.replace('/wavs/','/feats/').replace('.wav','.h5') for line in utt2wav_eval]\n",
    "with open('index/utt2wav_eval_h5','w') as f:\n",
    "    f.write('\\n'.join(utt2wav_eval_h5))"
   ]
  },
  {
   "cell_type": "code",
   "execution_count": 99,
   "metadata": {},
   "outputs": [
    {
     "ename": "FileNotFoundError",
     "evalue": "[Errno 2] No such file or directory: 'index/utt2wav_devel_500_h5_toy'",
     "output_type": "error",
     "traceback": [
      "\u001b[0;31m---------------------------------------------------------------------------\u001b[0m",
      "\u001b[0;31mFileNotFoundError\u001b[0m                         Traceback (most recent call last)",
      "\u001b[0;32m<ipython-input-99-e2e9ba4603e4>\u001b[0m in \u001b[0;36m<module>\u001b[0;34m\u001b[0m\n\u001b[0;32m----> 1\u001b[0;31m \u001b[0;32mwith\u001b[0m \u001b[0mopen\u001b[0m\u001b[0;34m(\u001b[0m\u001b[0;34m'index/utt2wav_devel_500_h5_toy'\u001b[0m\u001b[0;34m,\u001b[0m\u001b[0;34m'r'\u001b[0m\u001b[0;34m)\u001b[0m \u001b[0;32mas\u001b[0m \u001b[0mf\u001b[0m\u001b[0;34m:\u001b[0m\u001b[0;34m\u001b[0m\u001b[0;34m\u001b[0m\u001b[0m\n\u001b[0m\u001b[1;32m      2\u001b[0m     \u001b[0mtmp_wav\u001b[0m \u001b[0;34m=\u001b[0m \u001b[0mf\u001b[0m\u001b[0;34m.\u001b[0m\u001b[0mread\u001b[0m\u001b[0;34m(\u001b[0m\u001b[0;34m)\u001b[0m\u001b[0;34m.\u001b[0m\u001b[0msplit\u001b[0m\u001b[0;34m(\u001b[0m\u001b[0;34m'\\n'\u001b[0m\u001b[0;34m)\u001b[0m\u001b[0;34m\u001b[0m\u001b[0;34m\u001b[0m\u001b[0m\n",
      "\u001b[0;31mFileNotFoundError\u001b[0m: [Errno 2] No such file or directory: 'index/utt2wav_devel_500_h5_toy'"
     ]
    }
   ],
   "source": [
    "with open('index/utt2wav_devel_500_h5_toy','r') as f:\n",
    "    tmp_wav = f.read().split('\\n')"
   ]
  },
  {
   "cell_type": "code",
   "execution_count": 98,
   "metadata": {},
   "outputs": [],
   "source": [
    "tmp_wav = [line.split()[0]+' '+line.split('/')[-2] for line in tmp_wav]\n",
    "with open('index/utt2label_devel_500_toy','w') as f:\n",
    "    f.write('\\n'.join(tmp_wav))"
   ]
  },
  {
   "cell_type": "code",
   "execution_count": 2,
   "metadata": {},
   "outputs": [
    {
     "name": "stdout",
     "output_type": "stream",
     "text": [
      "9195655\n"
     ]
    }
   ],
   "source": [
    "with open('index/utt2wav_train','r') as f:\n",
    "    print(len(f.read().split('\\n')))"
   ]
  },
  {
   "cell_type": "markdown",
   "metadata": {},
   "source": [
    "### remake class2weights"
   ]
  },
  {
   "cell_type": "code",
   "execution_count": 4,
   "metadata": {},
   "outputs": [],
   "source": [
    "with open('class2count.json','r') as f:\n",
    "    class2count = json.load(f)"
   ]
  },
  {
   "cell_type": "code",
   "execution_count": 11,
   "metadata": {},
   "outputs": [
    {
     "data": {
      "text/plain": [
       "1171"
      ]
     },
     "execution_count": 11,
     "metadata": {},
     "output_type": "execute_result"
    }
   ],
   "source": [
    "len({k:v for k,v in class2count.items() if v>1400})"
   ]
  },
  {
   "cell_type": "code",
   "execution_count": null,
   "metadata": {},
   "outputs": [],
   "source": [
    "class2weights = "
   ]
  },
  {
   "cell_type": "markdown",
   "metadata": {},
   "source": [
    "### random"
   ]
  },
  {
   "cell_type": "code",
   "execution_count": 58,
   "metadata": {},
   "outputs": [
    {
     "data": {
      "text/plain": [
       "[2, 8, 6, 4, 4, 3, 8, 3]"
      ]
     },
     "execution_count": 58,
     "metadata": {},
     "output_type": "execute_result"
    }
   ],
   "source": [
    "import random\n",
    "l1 = [1,2,3,4,5,6,7,8]\n",
    "random.choices(l1,k=8)"
   ]
  },
  {
   "cell_type": "code",
   "execution_count": 60,
   "metadata": {},
   "outputs": [
    {
     "data": {
      "text/plain": [
       "[2, 1, 6, 3, 8, 7, 5, 4]"
      ]
     },
     "execution_count": 60,
     "metadata": {},
     "output_type": "execute_result"
    }
   ],
   "source": [
    "random.seed(42)\n",
    "random.sample(l1, 8)"
   ]
  },
  {
   "cell_type": "code",
   "execution_count": 64,
   "metadata": {},
   "outputs": [
    {
     "data": {
      "text/plain": [
       "[2, 1, 6, 3, 8, 7, 5, 4]"
      ]
     },
     "execution_count": 64,
     "metadata": {},
     "output_type": "execute_result"
    }
   ],
   "source": [
    "random.seed(42)\n",
    "random.sample(l1, 8)"
   ]
  },
  {
   "cell_type": "markdown",
   "metadata": {},
   "source": [
    "### check abnormal feature in `h5`"
   ]
  },
  {
   "cell_type": "code",
   "execution_count": 1,
   "metadata": {},
   "outputs": [],
   "source": [
    "with open(\"index/utt2wav_train_503_h5\",'r') as f:\n",
    "    all_train_feats = f.read().split()"
   ]
  },
  {
   "cell_type": "code",
   "execution_count": 2,
   "metadata": {},
   "outputs": [
    {
     "data": {
      "text/plain": [
       "'97038_0'"
      ]
     },
     "execution_count": 2,
     "metadata": {},
     "output_type": "execute_result"
    }
   ],
   "source": [
    "all_train_feats[0]"
   ]
  },
  {
   "cell_type": "code",
   "execution_count": 3,
   "metadata": {},
   "outputs": [],
   "source": [
    "import numpy as np"
   ]
  },
  {
   "cell_type": "code",
   "execution_count": 21,
   "metadata": {},
   "outputs": [],
   "source": [
    "ra = np.random.random((10,3))"
   ]
  },
  {
   "cell_type": "code",
   "execution_count": 22,
   "metadata": {},
   "outputs": [
    {
     "data": {
      "text/plain": [
       "array([[0.49620939, 0.82095235, 0.61244046],\n",
       "       [0.19497862, 0.24623941, 0.48297908],\n",
       "       [0.99611621, 0.85358927, 0.56465144],\n",
       "       [0.53359732, 0.94715238, 0.35714415],\n",
       "       [0.1632712 , 0.00613247, 0.02434299],\n",
       "       [0.65575787, 0.72649827, 0.17116279],\n",
       "       [0.42943611, 0.34734627, 0.5318194 ],\n",
       "       [0.28905445, 0.71488041, 0.24130438],\n",
       "       [0.49279889, 0.81797875, 0.21305097],\n",
       "       [0.99434755, 0.66320967, 0.38535919]])"
      ]
     },
     "execution_count": 22,
     "metadata": {},
     "output_type": "execute_result"
    }
   ],
   "source": [
    "ra"
   ]
  },
  {
   "cell_type": "code",
   "execution_count": 23,
   "metadata": {},
   "outputs": [
    {
     "data": {
      "text/plain": [
       "array([[0.49620939, 0.82095235, 0.61244046],\n",
       "       [0.19497862, 0.24623941, 0.48297908],\n",
       "       [0.99611621, 0.85358927, 0.56465144],\n",
       "       [0.53359732, 0.94715238, 0.35714415],\n",
       "       [0.1632712 , 0.00613247, 0.02434299],\n",
       "       [0.65575787, 0.72649827, 0.17116279],\n",
       "       [0.42943611, 0.34734627, 0.5318194 ],\n",
       "       [0.28905445, 0.71488041, 0.24130438],\n",
       "       [0.49279889, 0.81797875, 0.21305097],\n",
       "       [0.99434755, 0.66320967, 0.38535919],\n",
       "       [0.49620939, 0.82095235, 0.61244046]])"
      ]
     },
     "execution_count": 23,
     "metadata": {},
     "output_type": "execute_result"
    }
   ],
   "source": [
    "np.resize(ra, (11,3))"
   ]
  },
  {
   "cell_type": "markdown",
   "metadata": {},
   "source": [
    "### adapt new index files"
   ]
  },
  {
   "cell_type": "code",
   "execution_count": 12,
   "metadata": {},
   "outputs": [],
   "source": [
    "old_dir = \"/DATA1/ziang/data/1480birds/feats/\"\n",
    "new_dir = \"/shared_space/ziangzhou/bird/feats/\"\n",
    "with open(\"index/utt2wav_devel_503_h5\",'r') as f:\n",
    "    utt2wav_train = [line.replace(old_dir, new_dir) for line in f.read().split('\\n') if line]"
   ]
  },
  {
   "cell_type": "code",
   "execution_count": 13,
   "metadata": {},
   "outputs": [
    {
     "data": {
      "text/plain": [
       "['634025_0 /shared_space/ziangzhou/bird/feats/Blue-cheekedBee-eater/634025.h5 0',\n",
       " '634025_1 /shared_space/ziangzhou/bird/feats/Blue-cheekedBee-eater/634025.h5 1',\n",
       " '634025_2 /shared_space/ziangzhou/bird/feats/Blue-cheekedBee-eater/634025.h5 2',\n",
       " '634025_3 /shared_space/ziangzhou/bird/feats/Blue-cheekedBee-eater/634025.h5 3',\n",
       " '634025_4 /shared_space/ziangzhou/bird/feats/Blue-cheekedBee-eater/634025.h5 4',\n",
       " '634025_5 /shared_space/ziangzhou/bird/feats/Blue-cheekedBee-eater/634025.h5 5',\n",
       " '634025_6 /shared_space/ziangzhou/bird/feats/Blue-cheekedBee-eater/634025.h5 6',\n",
       " '634025_7 /shared_space/ziangzhou/bird/feats/Blue-cheekedBee-eater/634025.h5 7',\n",
       " '634025_8 /shared_space/ziangzhou/bird/feats/Blue-cheekedBee-eater/634025.h5 8',\n",
       " '634025_9 /shared_space/ziangzhou/bird/feats/Blue-cheekedBee-eater/634025.h5 9']"
      ]
     },
     "execution_count": 13,
     "metadata": {},
     "output_type": "execute_result"
    }
   ],
   "source": [
    "utt2wav_train[:10]"
   ]
  },
  {
   "cell_type": "code",
   "execution_count": 7,
   "metadata": {},
   "outputs": [
    {
     "data": {
      "text/plain": [
       "['634025_0 /DATA1/ziang/data/1480birds/feats/Blue-cheekedBee-eater/634025.h5 0',\n",
       " '634025_1 /DATA1/ziang/data/1480birds/feats/Blue-cheekedBee-eater/634025.h5 1',\n",
       " '634025_2 /DATA1/ziang/data/1480birds/feats/Blue-cheekedBee-eater/634025.h5 2',\n",
       " '634025_3 /DATA1/ziang/data/1480birds/feats/Blue-cheekedBee-eater/634025.h5 3',\n",
       " '634025_4 /DATA1/ziang/data/1480birds/feats/Blue-cheekedBee-eater/634025.h5 4',\n",
       " '634025_5 /DATA1/ziang/data/1480birds/feats/Blue-cheekedBee-eater/634025.h5 5',\n",
       " '634025_6 /DATA1/ziang/data/1480birds/feats/Blue-cheekedBee-eater/634025.h5 6',\n",
       " '634025_7 /DATA1/ziang/data/1480birds/feats/Blue-cheekedBee-eater/634025.h5 7',\n",
       " '634025_8 /DATA1/ziang/data/1480birds/feats/Blue-cheekedBee-eater/634025.h5 8',\n",
       " '634025_9 /DATA1/ziang/data/1480birds/feats/Blue-cheekedBee-eater/634025.h5 9']"
      ]
     },
     "execution_count": 11,
     "metadata": {},
     "output_type": "execute_result"
    }
   ],
   "source": [
    "utt2wav_train[:10]"
   ]
  },
  {
   "cell_type": "code",
   "execution_count": 14,
   "metadata": {},
   "outputs": [],
   "source": [
    "with open('index/utt2wav_devel_503_h5','w') as f:\n",
    "    f.write('\\n'.join(utt2wav_train))"
   ]
  },
  {
   "cell_type": "code",
   "execution_count": 4,
   "metadata": {},
   "outputs": [],
   "source": [
    "import os\n",
    "new_aug_dir = '/shared_space/spcup/feats/training_part1_aug_SNR_Gaussion/'\n",
    "all_new_aug_wavs = [wav for wav in os.listdir(new_aug_dir) if wav.endswith(\".h5\")]"
   ]
  },
  {
   "cell_type": "code",
   "execution_count": 5,
   "metadata": {},
   "outputs": [
    {
     "data": {
      "text/plain": [
       "12000"
      ]
     },
     "execution_count": 5,
     "metadata": {},
     "output_type": "execute_result"
    }
   ],
   "source": [
    "len(all_new_aug_wavs)"
   ]
  },
  {
   "cell_type": "code",
   "execution_count": 6,
   "metadata": {},
   "outputs": [
    {
     "data": {
      "text/plain": [
       "['b88fb8bff7761449b7153e9bd910ff1c_noise19_2136.h5',\n",
       " '12b70ebb01480dccd5201ee8308a140c_noise20_4883.h5',\n",
       " 'f49e5c191117d405ddab2aae990a8403_noise19_5878.h5',\n",
       " 'de090848c706b1389faa54c19cd343ae_noise19_8917.h5',\n",
       " 'aa82556956138b64ebb016a7f8ecf141_noise19_4216.h5']"
      ]
     },
     "execution_count": 6,
     "metadata": {},
     "output_type": "execute_result"
    }
   ],
   "source": [
    "all_new_aug_wavs[:5]"
   ]
  },
  {
   "cell_type": "code",
   "execution_count": 7,
   "metadata": {},
   "outputs": [],
   "source": [
    "new_utt2wav = [h5[:-3]+' '+new_aug_dir+h5 for h5 in all_new_aug_wavs]"
   ]
  },
  {
   "cell_type": "code",
   "execution_count": 15,
   "metadata": {},
   "outputs": [],
   "source": [
    "with open('/home/jovyan/work/spcup/index/aug_train_utt2wav','r') as f:\n",
    "    all_aug = f.read().split('\\n')"
   ]
  },
  {
   "cell_type": "code",
   "execution_count": 16,
   "metadata": {},
   "outputs": [],
   "source": [
    "all_aug += new_utt2wav"
   ]
  },
  {
   "cell_type": "code",
   "execution_count": 17,
   "metadata": {},
   "outputs": [
    {
     "data": {
      "text/plain": [
       "36000"
      ]
     },
     "execution_count": 17,
     "metadata": {},
     "output_type": "execute_result"
    }
   ],
   "source": [
    "len(all_aug)"
   ]
  },
  {
   "cell_type": "code",
   "execution_count": 18,
   "metadata": {},
   "outputs": [],
   "source": [
    "with open('/home/jovyan/work/spcup/index/aug_train_utt2wav_more','w') as f:\n",
    "    f.write('\\n'.join(all_aug))"
   ]
  },
  {
   "cell_type": "markdown",
   "metadata": {},
   "source": [
    "## index-new"
   ]
  },
  {
   "cell_type": "code",
   "execution_count": 1,
   "metadata": {},
   "outputs": [],
   "source": [
    "import os\n",
    "bird_dataset = '/DATA1/ziang/data/sw/3h-feats/'\n",
    "all_birds = list(filter(lambda x: not x.startswith('.'),os.listdir(bird_dataset)))"
   ]
  },
  {
   "cell_type": "code",
   "execution_count": 2,
   "metadata": {},
   "outputs": [],
   "source": [
    "bd_class2count = {bird:len([h5 for h5 in os.listdir(bird_dataset+bird) if h5.endswith('.h5')]) for bird in all_birds}"
   ]
  },
  {
   "cell_type": "code",
   "execution_count": 3,
   "metadata": {},
   "outputs": [],
   "source": [
    "bd_class2count = {k: v for k, v in sorted(bd_class2count.items(), key=lambda item: item[1], reverse=True)}"
   ]
  },
  {
   "cell_type": "code",
   "execution_count": 198,
   "metadata": {},
   "outputs": [],
   "source": [
    "bd_class2count_1100 = {bird:bd_class2count[bird] for bird in bd_class2dur}"
   ]
  },
  {
   "cell_type": "code",
   "execution_count": 199,
   "metadata": {},
   "outputs": [],
   "source": [
    "import json\n",
    "with open('index-try/class2count_l1k.json','w') as f:\n",
    "    json.dump(bd_class2count_1100, f)"
   ]
  },
  {
   "cell_type": "code",
   "execution_count": 5,
   "metadata": {},
   "outputs": [],
   "source": [
    "from sox.file_info import duration\n",
    "from tqdm import tqdm"
   ]
  },
  {
   "cell_type": "code",
   "execution_count": 12,
   "metadata": {},
   "outputs": [],
   "source": [
    "bird_dataDir = '/DATA1/ziang/data/sw/3h-aligned/'\n",
    "soxi_cmds = [(\"soxi %s%s/*.wav | tail -1 > length_results/%s.txt\"%(bird_dataDir,bird,bird)).replace(\"\\'\",\"\\\\'\") for bird in all_birds]\n",
    "with open('length_cmds.sh','w')  as f:\n",
    "    f.write('\\n'.join(soxi_cmds))"
   ]
  },
  {
   "cell_type": "code",
   "execution_count": 13,
   "metadata": {},
   "outputs": [],
   "source": [
    "def str2seconds(time_str):\n",
    "    return sum(x * float(t) for x, t in zip([3600, 60, 1], time_str.split(\":\"))) "
   ]
  },
  {
   "cell_type": "code",
   "execution_count": 88,
   "metadata": {},
   "outputs": [],
   "source": [
    "length_results = 'length_results/'\n",
    "bird_length_files = [length_results+bird for bird in os.listdir(length_results) if not bird.startswith('.')]"
   ]
  },
  {
   "cell_type": "code",
   "execution_count": 242,
   "metadata": {},
   "outputs": [
    {
     "name": "stderr",
     "output_type": "stream",
     "text": [
      " 50%|████▉     | 699/1406 [00:00<00:00, 3323.47it/s]"
     ]
    },
    {
     "name": "stdout",
     "output_type": "stream",
     "text": [
      "length_results/Grandala.txt\n",
      "length_results/Spot-breastedLaughingthrush.txt\n",
      "length_results/White-belliedHeron.txt\n",
      "length_results/Yellow-breastedBunting.txt\n",
      "length_results/Sharpe'sRosefinch.txt\n",
      "length_results/CollaredMyna.txt\n",
      "length_results/ChineseCrestedTern.txt\n",
      "length_results/AsianFairy-bluebird.txt\n",
      "length_results/White-speckledLaughingthrush.txt\n",
      "length_results/Jankowski'sBunting.txt\n",
      "length_results/CaspianPlover.txt\n",
      "length_results/Pin-tailedParrotfinch.txt\n",
      "length_results/MoustachedLaughingthrush.txt\n",
      "length_results/Long-tailedShrike.txt\n",
      "length_results/Brown-backedNeedletail.txt\n",
      "length_results/Black-facedSpoonbill.txt\n",
      "length_results/White-rumpedShama.txt\n",
      "length_results/SilverOriole.txt\n",
      "length_results/IndianWhite-eye.txt\n",
      "length_results/PiedHarrier.txt\n",
      "length_results/MongolianLark.txt\n",
      "length_results/TibetanSandgrouse.txt\n",
      "length_results/Dark-rumpedSwift.txt\n",
      "length_results/Blackthroat.txt\n",
      "length_results/ChineseHwamei.txt\n",
      "length_results/Silver-backedNeedletail.txt\n",
      "length_results/Rufous-headedRobin.txt\n",
      "length_results/Tristram'sStormPetrel.txt\n"
     ]
    },
    {
     "name": "stderr",
     "output_type": "stream",
     "text": [
      "100%|██████████| 1406/1406 [00:00<00:00, 3637.61it/s]"
     ]
    },
    {
     "name": "stdout",
     "output_type": "stream",
     "text": [
      "length_results/EmeiShanLiocichla.txt\n",
      "length_results/RelictGull.txt\n",
      "length_results/LesserAdjutant.txt\n",
      "length_results/ChineseGrosbeak.txt\n",
      "length_results/JavanPondHeron.txt\n",
      "length_results/HimalayanBuzzard.txt\n",
      "length_results/BuffyLaughingthrush.txt\n",
      "length_results/Orange-headedThrush.txt\n",
      "length_results/JapaneseCormorant.txt\n",
      "length_results/ChineseGrouse.txt\n",
      "length_results/Elliot'sPheasant.txt\n",
      "length_results/Baer'sPochard.txt\n",
      "length_results/PiedMyna.txt\n",
      "length_results/JapaneseGrosbeak.txt\n",
      "length_results/CommonHillMyna.txt\n",
      "length_results/Scaly-sidedMerganser.txt\n",
      "length_results/LordDerby'sParakeet.txt\n",
      "length_results/Black-napedOriole.txt\n",
      "length_results/UplandBuzzard.txt\n",
      "length_results/SpeckledWoodPigeon.txt\n",
      "length_results/Knob-billedDuck.txt\n",
      "length_results/ChestnutBunting.txt\n",
      "length_results/Blue-crownedLaughingthrush.txt\n",
      "length_results/CommonGreenMagpie.txt\n",
      "length_results/Black-throatedLaughingthrush.txt\n",
      "length_results/Silver-earedMesia.txt\n",
      "length_results/SiberianGrouse.txt\n",
      "length_results/Yellow-throatedLaughingthrush.txt\n",
      "length_results/White-earedNightHeron.txt\n",
      "length_results/Red-billedLeiothrix.txt\n",
      "length_results/OrientalMagpie-Robin.txt\n",
      "length_results/Blyth'sKingfisher.txt\n",
      "length_results/Yellow-eyedPigeon.txt\n"
     ]
    },
    {
     "name": "stderr",
     "output_type": "stream",
     "text": [
      "\n"
     ]
    }
   ],
   "source": [
    "bd_class2dur = {}\n",
    "for bf in tqdm(bird_length_files):\n",
    "    with open(bf, 'r') as f:\n",
    "        \n",
    "        try:\n",
    "            dur_str = f.read().split()[-1]\n",
    "            bd_class2dur[bf.split('/')[-1][:-4]] = str2seconds(dur_str)\n",
    "        except:\n",
    "            print(bf)"
   ]
  },
  {
   "cell_type": "code",
   "execution_count": 29,
   "metadata": {},
   "outputs": [
    {
     "name": "stdout",
     "output_type": "stream",
     "text": [
      "00:09:59.09\n"
     ]
    }
   ],
   "source": [
    "with open('length_results/HimalayanSnowcock.txt','r') as f:\n",
    "    print(f.read().split()[-1])"
   ]
  },
  {
   "cell_type": "code",
   "execution_count": 28,
   "metadata": {},
   "outputs": [
    {
     "data": {
      "text/plain": [
       "599.09"
      ]
     },
     "execution_count": 28,
     "metadata": {},
     "output_type": "execute_result"
    }
   ],
   "source": [
    "str2seconds('00:09:59.09')"
   ]
  },
  {
   "cell_type": "code",
   "execution_count": 243,
   "metadata": {},
   "outputs": [],
   "source": [
    "bd_class2dur = {k: v for k, v in sorted(bd_class2dur.items(), key=lambda item: item[1], reverse=True)}"
   ]
  },
  {
   "cell_type": "code",
   "execution_count": 249,
   "metadata": {},
   "outputs": [],
   "source": [
    "bd_compute = {k:np.log2(v/1000) for k,v in bd_class2dur.items()}"
   ]
  },
  {
   "cell_type": "code",
   "execution_count": 244,
   "metadata": {},
   "outputs": [
    {
     "data": {
      "text/plain": [
       "1345"
      ]
     },
     "execution_count": 244,
     "metadata": {},
     "output_type": "execute_result"
    }
   ],
   "source": [
    "len(bd_class2dur)"
   ]
  },
  {
   "cell_type": "code",
   "execution_count": 251,
   "metadata": {},
   "outputs": [],
   "source": [
    "export_json = []\n",
    "for k,v in bd_compute.items():\n",
    "    export_json.append({\"Value\":v,\"Label\":k})"
   ]
  },
  {
   "cell_type": "code",
   "execution_count": 252,
   "metadata": {},
   "outputs": [],
   "source": [
    "with open('index/class2dur_computed.json','w') as f:\n",
    "    json.dump(export_json, f)"
   ]
  },
  {
   "cell_type": "code",
   "execution_count": 31,
   "metadata": {},
   "outputs": [],
   "source": [
    "bd_class2count_inverse = {k:int(1500//bd_class2count_1100[k])+1 for k in bd_class2count_1100}"
   ]
  },
  {
   "cell_type": "code",
   "execution_count": 56,
   "metadata": {},
   "outputs": [
    {
     "data": {
      "text/plain": [
       "2.5484"
      ]
     },
     "execution_count": 56,
     "metadata": {},
     "output_type": "execute_result"
    }
   ],
   "source": [
    "round(random.uniform(1,3),4)"
   ]
  },
  {
   "cell_type": "code",
   "execution_count": 71,
   "metadata": {},
   "outputs": [],
   "source": [
    "import math\n",
    "def get_floor(x, n):\n",
    "    return math.floor(x * 10**n)/10**n"
   ]
  },
  {
   "cell_type": "code",
   "execution_count": 73,
   "metadata": {},
   "outputs": [
    {
     "data": {
      "text/plain": [
       "1.9"
      ]
     },
     "execution_count": 73,
     "metadata": {},
     "output_type": "execute_result"
    }
   ],
   "source": [
    "get_floor(1.9899,1)"
   ]
  },
  {
   "cell_type": "code",
   "execution_count": 76,
   "metadata": {},
   "outputs": [
    {
     "data": {
      "text/plain": [
       "206"
      ]
     },
     "execution_count": 76,
     "metadata": {},
     "output_type": "execute_result"
    }
   ],
   "source": [
    "len(bd_class2dur)"
   ]
  },
  {
   "cell_type": "code",
   "execution_count": 206,
   "metadata": {},
   "outputs": [],
   "source": [
    "# init label2int\n",
    "bd_label2int = {bird:i for i,bird in enumerate(bd_class2dur)}"
   ]
  },
  {
   "cell_type": "code",
   "execution_count": 207,
   "metadata": {},
   "outputs": [
    {
     "data": {
      "text/plain": [
       "569"
      ]
     },
     "execution_count": 207,
     "metadata": {},
     "output_type": "execute_result"
    }
   ],
   "source": [
    "len(bd_label2int)"
   ]
  },
  {
   "cell_type": "code",
   "execution_count": 208,
   "metadata": {},
   "outputs": [],
   "source": [
    "with open('index-try/label2int_l2k.json','w') as f:\n",
    "    json.dump(bd_label2int, f)"
   ]
  },
  {
   "cell_type": "code",
   "execution_count": 1,
   "metadata": {},
   "outputs": [
    {
     "ename": "NameError",
     "evalue": "name 'bd_class2dur' is not defined",
     "output_type": "error",
     "traceback": [
      "\u001b[0;31m---------------------------------------------------------------------------\u001b[0m",
      "\u001b[0;31mNameError\u001b[0m                                 Traceback (most recent call last)",
      "\u001b[0;32m/tmp/ipykernel_52393/2011084608.py\u001b[0m in \u001b[0;36m<module>\u001b[0;34m\u001b[0m\n\u001b[0;32m----> 1\u001b[0;31m \u001b[0mbd_class2dur\u001b[0m\u001b[0;34m\u001b[0m\u001b[0;34m\u001b[0m\u001b[0m\n\u001b[0m",
      "\u001b[0;31mNameError\u001b[0m: name 'bd_class2dur' is not defined"
     ]
    }
   ],
   "source": []
  },
  {
   "cell_type": "markdown",
   "metadata": {},
   "source": [
    "## infer"
   ]
  },
  {
   "cell_type": "code",
   "execution_count": 124,
   "metadata": {},
   "outputs": [],
   "source": [
    "with open('index-try/devel_utt2wav_l10.9k','r')as f:\n",
    "    all_utts_h5 = [line.split()[1] for line in f.read().split('\\n') if line]"
   ]
  },
  {
   "cell_type": "code",
   "execution_count": 126,
   "metadata": {},
   "outputs": [],
   "source": [
    "all_utts_h5 = list(set(all_utts_h5))\n",
    "all_utts_wavs = [line.replace('3h-feats','3h-aligned').replace('.h5','.wav') for line in all_utts_h5]"
   ]
  },
  {
   "cell_type": "code",
   "execution_count": 130,
   "metadata": {},
   "outputs": [],
   "source": [
    "with open('index-try/label2int_l10.9k.json','r') as f:\n",
    "    label2int_dict = json.load(f)"
   ]
  },
  {
   "cell_type": "code",
   "execution_count": 152,
   "metadata": {},
   "outputs": [],
   "source": [
    "with open('index-try/devel_utt2label_l10.9k','r') as f:\n",
    "    all_utt2label = f.read().split('\\n')"
   ]
  },
  {
   "cell_type": "code",
   "execution_count": 158,
   "metadata": {},
   "outputs": [
    {
     "data": {
      "text/plain": [
       "'EurasianCollaredDove'"
      ]
     },
     "execution_count": 158,
     "metadata": {},
     "output_type": "execute_result"
    }
   ],
   "source": [
    "all_utt2label[0].split()[1]"
   ]
  },
  {
   "cell_type": "code",
   "execution_count": 160,
   "metadata": {},
   "outputs": [],
   "source": [
    "all_utt2label = [line.split('_')[0]+' '+line.split()[1] for line in all_utt2label if line]"
   ]
  },
  {
   "cell_type": "code",
   "execution_count": 162,
   "metadata": {},
   "outputs": [],
   "source": [
    "all_utt2label = list(set(all_utt2label))"
   ]
  },
  {
   "cell_type": "code",
   "execution_count": 164,
   "metadata": {},
   "outputs": [],
   "source": [
    "utt2label_dict = {line.split()[0]:line.split()[1] for line in all_utt2label if line}"
   ]
  },
  {
   "cell_type": "code",
   "execution_count": 133,
   "metadata": {},
   "outputs": [],
   "source": [
    "wp = \"/DATA1/ziang/data/sw/3h-aligned/CommonTern/380875.wav\""
   ]
  },
  {
   "cell_type": "code",
   "execution_count": 167,
   "metadata": {},
   "outputs": [
    {
     "data": {
      "text/plain": [
       "'CommonTern'"
      ]
     },
     "execution_count": 167,
     "metadata": {},
     "output_type": "execute_result"
    }
   ],
   "source": [
    "utt2label_dict[wp.split('/')[-1][:-4]]"
   ]
  },
  {
   "cell_type": "code",
   "execution_count": 138,
   "metadata": {},
   "outputs": [],
   "source": [
    "import audiofile as af\n",
    "from python_speech_features import logfbank\n",
    "def extract_feat(wav_path, cmn=True):\n",
    "    kwargs = {\n",
    "        \"winlen\": 0.025,\n",
    "        \"winstep\": 0.01,\n",
    "        \"nfilt\": 80,\n",
    "        \"nfft\": 2048,\n",
    "        \"lowfreq\": 50,\n",
    "        \"highfreq\": 8000,\n",
    "        \"preemph\": 0.97\n",
    "    }\n",
    "    y, sr = af.read(wav_path)\n",
    "    logfbankFeat = logfbank(y, sr, **kwargs)\n",
    "    if cmn:\n",
    "        logfbankFeat -= logfbankFeat.mean(axis=0, keepdims=True)\n",
    "    return logfbankFeat.astype('float32')"
   ]
  },
  {
   "cell_type": "code",
   "execution_count": 146,
   "metadata": {},
   "outputs": [
    {
     "data": {
      "text/plain": [
       "(500, 80)"
      ]
     },
     "execution_count": 146,
     "metadata": {},
     "output_type": "execute_result"
    }
   ],
   "source": [
    "extract_feat(wp)[:500].shape"
   ]
  },
  {
   "cell_type": "code",
   "execution_count": 147,
   "metadata": {},
   "outputs": [],
   "source": [
    "def most_common(lst):\n",
    "    return max(set(lst), key=lst.count)"
   ]
  },
  {
   "cell_type": "code",
   "execution_count": 169,
   "metadata": {},
   "outputs": [],
   "source": [
    "with open('sample_out/output.json','r') as f:\n",
    "    output1 = json.load(f)\n",
    "    output1 = {k: v for k, v in sorted(output1.items(), key=lambda item: item[1][2], reverse=True)}"
   ]
  },
  {
   "cell_type": "code",
   "execution_count": 171,
   "metadata": {},
   "outputs": [],
   "source": [
    "with open('sample_out/output_baseline_120b_res18_3000_maxacc.json','w') as f:\n",
    "    json.dump(output1, f)"
   ]
  },
  {
   "cell_type": "code",
   "execution_count": 302,
   "metadata": {},
   "outputs": [],
   "source": [
    "with open('sample_out/output_baseline_332b_res18_2000_bad.json','r') as f:\n",
    "    acc_3000 = json.load(f)"
   ]
  },
  {
   "cell_type": "code",
   "execution_count": 303,
   "metadata": {},
   "outputs": [],
   "source": [
    "acc_3000_val = [val[2] for val in acc_3000.values()]"
   ]
  },
  {
   "cell_type": "code",
   "execution_count": 304,
   "metadata": {},
   "outputs": [
    {
     "data": {
      "text/plain": [
       "0.8254361824559953"
      ]
     },
     "execution_count": 304,
     "metadata": {},
     "output_type": "execute_result"
    }
   ],
   "source": [
    "np.mean(acc_3000_val)"
   ]
  },
  {
   "cell_type": "code",
   "execution_count": 216,
   "metadata": {},
   "outputs": [],
   "source": [
    "def acc_avg(js):\n",
    "    import json\n",
    "    with open(js,'r') as f:\n",
    "        acc_all = json.load(f)\n",
    "    total_tests = sum([val[1] for val in acc_all.values()])\n",
    "    correct_tests = sum([val[0] for val in acc_all.values()])\n",
    "    return correct_tests/total_tests"
   ]
  },
  {
   "cell_type": "code",
   "execution_count": 357,
   "metadata": {},
   "outputs": [
    {
     "data": {
      "text/plain": [
       "0.7823269790590666"
      ]
     },
     "execution_count": 357,
     "metadata": {},
     "output_type": "execute_result"
    }
   ],
   "source": [
    "acc_avg('sample_out/output_821_sceloss.json')"
   ]
  },
  {
   "cell_type": "markdown",
   "metadata": {},
   "source": [
    "## bad"
   ]
  },
  {
   "cell_type": "code",
   "execution_count": 282,
   "metadata": {},
   "outputs": [],
   "source": [
    "from module.model import Gvector\n",
    "import torch\n",
    "import h5py\n",
    "from scipy.special import softmax\n",
    "from python_speech_features import logfbank"
   ]
  },
  {
   "cell_type": "code",
   "execution_count": 253,
   "metadata": {},
   "outputs": [],
   "source": [
    "bad_model_pth = '/DATA1/ziang/code/BAD/exp/bad_aug_0.33_max_auc/chkpt/chkpt_best.pth'"
   ]
  },
  {
   "cell_type": "code",
   "execution_count": 275,
   "metadata": {},
   "outputs": [],
   "source": [
    "sample_feat = '/DATA1/ziang/data/sw/bad_feats/ff1010bird/101318.h5'"
   ]
  },
  {
   "cell_type": "code",
   "execution_count": 283,
   "metadata": {},
   "outputs": [],
   "source": [
    "def extract_feat(wav_path, cmn=True):\n",
    "    kwargs = {\n",
    "        \"winlen\": 0.025,\n",
    "        \"winstep\": 0.01,\n",
    "        \"nfilt\": 80,\n",
    "        \"nfft\": 2048,\n",
    "        \"lowfreq\": 50,\n",
    "        \"highfreq\": 8000,\n",
    "        \"preemph\": 0.97\n",
    "    }\n",
    "    y, sr = af.read(wav_path)\n",
    "    logfbankFeat = logfbank(y, sr, **kwargs)\n",
    "    if cmn:\n",
    "        logfbankFeat -= logfbankFeat.mean(axis=0, keepdims=True)\n",
    "    return logfbankFeat.astype('float32')"
   ]
  },
  {
   "cell_type": "code",
   "execution_count": 255,
   "metadata": {},
   "outputs": [],
   "source": [
    "class SVExtractor():\n",
    "    def __init__(self, mdl_kwargs, model_path, device):\n",
    "        self.model = self.load_model(mdl_kwargs, model_path, device)\n",
    "        self.model.eval()\n",
    "        self.device = device\n",
    "        self.model = self.model.to(self.device)\n",
    "\n",
    "    def load_model(self, mdl_kwargs, model_path, device):\n",
    "        model = Gvector(**mdl_kwargs)\n",
    "        state_dict = torch.load(model_path, map_location=device)\n",
    "        if 'model' in state_dict.keys():\n",
    "            state_dict = state_dict['model']\n",
    "        model.load_state_dict(state_dict)\n",
    "        return model\n",
    "\n",
    "    def __call__(self, frame_feats):\n",
    "        feat = torch.from_numpy(frame_feats).unsqueeze(0)\n",
    "        feat = feat.float().to(self.device)\n",
    "        with torch.no_grad():\n",
    "            embd = self.model(feat)\n",
    "        embd = embd.squeeze(0).cpu().numpy()\n",
    "        return embd"
   ]
  },
  {
   "cell_type": "code",
   "execution_count": 259,
   "metadata": {},
   "outputs": [],
   "source": [
    "mdl_clf_kwargs = {\n",
    "    \"channels\": 16, \n",
    "    \"block\": \"BasicBlock\", \n",
    "    \"num_blocks\": [2,2,2,2], \n",
    "    \"embd_dim\": 1024, \n",
    "    \"drop\": 0.3, \n",
    "    \"n_class\": 2\n",
    "}"
   ]
  },
  {
   "cell_type": "code",
   "execution_count": 279,
   "metadata": {},
   "outputs": [],
   "source": [
    "bad_extractor = SVExtractor(mdl_clf_kwargs, bad_model_pth, 'cpu')"
   ]
  },
  {
   "cell_type": "code",
   "execution_count": 280,
   "metadata": {},
   "outputs": [],
   "source": [
    "# extract features\n",
    "hf = h5py.File(sample_feat,'r')\n",
    "logfbankfeat = np.array(hf.get('logfbank'))\n",
    "hf.close()"
   ]
  },
  {
   "cell_type": "code",
   "execution_count": 288,
   "metadata": {},
   "outputs": [],
   "source": [
    "logfbankfeat = extract_feat(\"/DATA1/ziang/data/sw/3h-aligned/EuropeanNightjar/569952.wav\")"
   ]
  },
  {
   "cell_type": "code",
   "execution_count": 290,
   "metadata": {},
   "outputs": [
    {
     "data": {
      "text/plain": [
       "array([0.9445642, 0.0554357], dtype=float32)"
      ]
     },
     "execution_count": 290,
     "metadata": {},
     "output_type": "execute_result"
    }
   ],
   "source": [
    "softmax(bad_extractor(logfbankfeat))"
   ]
  },
  {
   "cell_type": "markdown",
   "metadata": {},
   "source": [
    "## replace"
   ]
  },
  {
   "cell_type": "code",
   "execution_count": 306,
   "metadata": {},
   "outputs": [],
   "source": [
    "old_prefix = '/shared_space/ziangzhou/data-bird-feats/'\n",
    "new_prefix = '/DATA1/ziang/data/sw/3h-feats/'"
   ]
  },
  {
   "cell_type": "code",
   "execution_count": 317,
   "metadata": {},
   "outputs": [],
   "source": [
    "with open('index-new/train_utt2wav_l5k2000_bad','r') as f:\n",
    "    all_old = f.read().split('\\n')"
   ]
  },
  {
   "cell_type": "code",
   "execution_count": 309,
   "metadata": {},
   "outputs": [],
   "source": [
    "all_new = [old.replace(old_prefix, new_prefix) for old in all_old if old]"
   ]
  },
  {
   "cell_type": "code",
   "execution_count": 320,
   "metadata": {},
   "outputs": [],
   "source": [
    "all_new = [' '.join(new.split()[:2]) +' '+ str(float(new.split()[2])/100) for new in all_old if new]"
   ]
  },
  {
   "cell_type": "code",
   "execution_count": 321,
   "metadata": {},
   "outputs": [
    {
     "data": {
      "text/plain": [
       "['632464_0 /DATA1/ziang/data/sw/3h-feats/EurasianWigeon/632464.h5 19.47',\n",
       " '632464_1 /DATA1/ziang/data/sw/3h-feats/EurasianWigeon/632464.h5 19.0',\n",
       " '632464_2 /DATA1/ziang/data/sw/3h-feats/EurasianWigeon/632464.h5 28.13',\n",
       " '632464_3 /DATA1/ziang/data/sw/3h-feats/EurasianWigeon/632464.h5 6.66',\n",
       " '632464_4 /DATA1/ziang/data/sw/3h-feats/EurasianWigeon/632464.h5 19.39',\n",
       " '632969_0 /DATA1/ziang/data/sw/3h-feats/EurasianWigeon/632969.h5 0.78',\n",
       " '632969_1 /DATA1/ziang/data/sw/3h-feats/EurasianWigeon/632969.h5 0.48',\n",
       " '632969_2 /DATA1/ziang/data/sw/3h-feats/EurasianWigeon/632969.h5 1.46',\n",
       " '632969_3 /DATA1/ziang/data/sw/3h-feats/EurasianWigeon/632969.h5 0.57',\n",
       " '632969_4 /DATA1/ziang/data/sw/3h-feats/EurasianWigeon/632969.h5 0.46']"
      ]
     },
     "execution_count": 321,
     "metadata": {},
     "output_type": "execute_result"
    }
   ],
   "source": [
    "all_new[:10]"
   ]
  },
  {
   "cell_type": "code",
   "execution_count": 322,
   "metadata": {},
   "outputs": [],
   "source": [
    "with open('index-new/train_utt2wav_l5k2000_bad','w') as f:\n",
    "    f.write('\\n'.join(all_new))"
   ]
  },
  {
   "cell_type": "markdown",
   "metadata": {},
   "source": [
    "## convert torch model to `jit`"
   ]
  },
  {
   "cell_type": "code",
   "execution_count": 16,
   "metadata": {},
   "outputs": [],
   "source": [
    "from module.model import Gvector\n",
    "import torch"
   ]
  },
  {
   "cell_type": "code",
   "execution_count": 12,
   "metadata": {},
   "outputs": [],
   "source": [
    "mdl_clf_kwargs = {\n",
    "    \"channels\": 16, \n",
    "    \"block\": \"BasicBlock\", \n",
    "    \"num_blocks\": [2,2,2,2], \n",
    "    \"embd_dim\": 1024, \n",
    "    \"drop\": 0.3, \n",
    "    \"n_class\": 821\n",
    "}"
   ]
  },
  {
   "cell_type": "code",
   "execution_count": 13,
   "metadata": {},
   "outputs": [],
   "source": [
    "model_path = 'exp/821b_bad_aug_0.1/chkpt/chkpt_best.pth'"
   ]
  },
  {
   "cell_type": "code",
   "execution_count": 28,
   "metadata": {},
   "outputs": [],
   "source": [
    "model = Gvector(**mdl_clf_kwargs)\n",
    "model_clf = torch.load(model_path, map_location='cpu')"
   ]
  },
  {
   "cell_type": "code",
   "execution_count": 30,
   "metadata": {},
   "outputs": [],
   "source": [
    "# model_clf.eval()\n",
    "torch.save(model_clf,'821b_entire.pt')"
   ]
  },
  {
   "cell_type": "code",
   "execution_count": 21,
   "metadata": {},
   "outputs": [],
   "source": [
    "def load_model(mdl_kwargs, model_path, device):\n",
    "    model = Gvector(**mdl_kwargs)\n",
    "    state_dict = torch.load(model_path, map_location=device)\n",
    "    if 'model' in state_dict.keys():\n",
    "        state_dict = state_dict['model']\n",
    "    model.load_state_dict(state_dict)\n",
    "    return model"
   ]
  },
  {
   "cell_type": "code",
   "execution_count": null,
   "metadata": {},
   "outputs": [],
   "source": [
    "model_clf"
   ]
  }
 ],
 "metadata": {
  "kernelspec": {
   "display_name": "Python 3",
   "language": "python",
   "name": "python3"
  },
  "language_info": {
   "codemirror_mode": {
    "name": "ipython",
    "version": 3
   },
   "file_extension": ".py",
   "mimetype": "text/x-python",
   "name": "python",
   "nbconvert_exporter": "python",
   "pygments_lexer": "ipython3",
   "version": "3.7.6"
  }
 },
 "nbformat": 4,
 "nbformat_minor": 4
}
